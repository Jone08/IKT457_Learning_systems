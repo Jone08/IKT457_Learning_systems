{
 "cells": [
  {
   "cell_type": "markdown",
   "id": "ae1d475c",
   "metadata": {},
   "source": [
    "# IKT457 - Assignment 2\n",
    "\n"
   ]
  },
  {
   "cell_type": "code",
   "execution_count": 133,
   "id": "9c697c3e",
   "metadata": {},
   "outputs": [],
   "source": [
    "import random\n",
    "from random import choice"
   ]
  },
  {
   "cell_type": "markdown",
   "id": "d499b5b6",
   "metadata": {},
   "source": [
    "#### Data: 6 Patients (3 Recurrence, 3 Non-recurrence)"
   ]
  },
  {
   "cell_type": "code",
   "execution_count": 134,
   "id": "83b40666",
   "metadata": {},
   "outputs": [],
   "source": [
    "# Recurrence (cancer) patients\n",
    "cancer_patients = [\n",
    "    {\"lt40\": False, \"ge40\": True,  \"premono\": False,\n",
    "     \"zero_two\": False, \"three_five\": True, \"six_eight\": False,\n",
    "     \"deg_malig_1\": False, \"deg_malig_2\": False, \"deg_malig_3\": True},\n",
    "\n",
    "    {\"lt40\": False, \"ge40\": True,  \"premono\": False,\n",
    "     \"zero_two\": False, \"three_five\": False, \"six_eight\": True,\n",
    "     \"deg_malig_1\": False, \"deg_malig_2\": False, \"deg_malig_3\": True},\n",
    "\n",
    "    {\"lt40\": False, \"ge40\": False, \"premono\": True,\n",
    "     \"zero_two\": True, \"three_five\": False, \"six_eight\": False,\n",
    "     \"deg_malig_1\": False, \"deg_malig_2\": False, \"deg_malig_3\": True},\n",
    "]\n",
    "\n",
    "# Non-recurrence (cancer-free) patients\n",
    "cancer_free_patients = [\n",
    "    {\"lt40\": True,  \"ge40\": False, \"premono\": False,\n",
    "     \"zero_two\": True, \"three_five\": False, \"six_eight\": False,\n",
    "     \"deg_malig_1\": False, \"deg_malig_2\": False, \"deg_malig_3\": True},\n",
    "\n",
    "    {\"lt40\": False, \"ge40\": True,  \"premono\": False,\n",
    "     \"zero_two\": True, \"three_five\": False, \"six_eight\": False,\n",
    "     \"deg_malig_1\": False, \"deg_malig_2\": True,  \"deg_malig_3\": False},\n",
    "\n",
    "    {\"lt40\": False, \"ge40\": False, \"premono\": True,\n",
    "     \"zero_two\": True, \"three_five\": False, \"six_eight\": False,\n",
    "     \"deg_malig_1\": True,  \"deg_malig_2\": False, \"deg_malig_3\": False},\n",
    "]"
   ]
  },
  {
   "cell_type": "markdown",
   "id": "d70fcd2f",
   "metadata": {},
   "source": [
    "#### Rule Evaluation\n",
    "\n",
    "A _condition_ is a list of literals like `[\"deg_malig_3\", \"NOT lt40\"]`. \\\n",
    "The `evaluate_condition` function checks whether an observation satisfies all literals."
   ]
  },
  {
   "cell_type": "code",
   "execution_count": 135,
   "id": "08b8c0bb",
   "metadata": {},
   "outputs": [],
   "source": [
    "def evaluate_condition(observation, condition):\n",
    "    truth_value_of_condition = True\n",
    "    for feature in observation:\n",
    "        if feature in condition and observation[feature] == False:\n",
    "            truth_value_of_condition = False\n",
    "            break\n",
    "        if 'NOT ' + feature in condition and observation[feature] == True:\n",
    "            truth_value_of_condition = False\n",
    "            break\n",
    "    return truth_value_of_condition"
   ]
  },
  {
   "cell_type": "markdown",
   "id": "d02dc592",
   "metadata": {},
   "source": [
    "#### Rules R1, R2, R3 (from slides)\n",
    "\n",
    "* R1 **if** _Deg-malign 3_ **and not** _Menopause lt40_ **then** _Recurrence_, \n",
    "* R2 **if** _Deg-malign 3_ **and not** _Menopause lt40_ **then** _Recurrence_, \n",
    "* R3 **if** _Inv-nodes 0-2_ **then** Non-Recurrence. \n"
   ]
  },
  {
   "cell_type": "code",
   "execution_count": 136,
   "id": "fff4e841",
   "metadata": {},
   "outputs": [
    {
     "name": "stdout",
     "output_type": "stream",
     "text": [
      "\n",
      "###### Rule 1 ######\n",
      "Patient 1, True\n",
      "Patient 2, False\n",
      "Patient 3, True\n",
      "Patient 4, False\n",
      "Patient 5, True\n",
      "Patient 6, False\n",
      "____________________________________________\n",
      "\n",
      "###### Rule 2 ######\n",
      "Patient 1, True\n",
      "Patient 2, False\n",
      "Patient 3, True\n",
      "Patient 4, False\n",
      "Patient 5, True\n",
      "Patient 6, False\n",
      "____________________________________________\n",
      "\n",
      "###### Rule 3 ######\n",
      "Patient 1, False\n",
      "Patient 2, True\n",
      "Patient 3, False\n",
      "Patient 4, True\n",
      "Patient 5, True\n",
      "Patient 6, True\n",
      "____________________________________________\n",
      "\n"
     ]
    }
   ],
   "source": [
    "# Rules\n",
    "R1 = [\"deg_malig_3\", \"NOT lt40\"]  # -> Recurrence\n",
    "R2 = [\"deg_malig_3\", \"NOT lt40\"]  # -> Recurrence\n",
    "R3 = [\"zero_two\"]  # -> Non-recurrence\n",
    "\n",
    "n = 1\n",
    "print(f\"\\n###### Rule 1 ######\")\n",
    "for i in range(len(cancer_patients)):\n",
    "    print(f\"Patient {n}, {evaluate_condition(cancer_patients[i], R1)}\")\n",
    "    n += 1 \n",
    "    print(f\"Patient {n}, {evaluate_condition(cancer_free_patients[i], R1)}\")\n",
    "    n += 1\n",
    "print(f\"____________________________________________\")\n",
    "\n",
    "n = 1\n",
    "print(f\"\\n###### Rule 2 ######\")\n",
    "for i in range(len(cancer_patients)):\n",
    "    print(f\"Patient {n}, {evaluate_condition(cancer_patients[i], R2)}\")\n",
    "    n += 1 \n",
    "    print(f\"Patient {n}, {evaluate_condition(cancer_free_patients[i], R2)}\")\n",
    "    n += 1\n",
    "print(f\"____________________________________________\")\n",
    "\n",
    "n = 1\n",
    "print(f\"\\n###### Rule 3 ######\")\n",
    "for i in range(len(cancer_patients)):\n",
    "    print(f\"Patient {n}, {evaluate_condition(cancer_patients[i], R3)}\")\n",
    "    n += 1 \n",
    "    print(f\"Patient {n}, {evaluate_condition(cancer_free_patients[i], R3)}\")\n",
    "    n += 1\n",
    "print(f\"____________________________________________\\n\")"
   ]
  },
  {
   "cell_type": "markdown",
   "id": "8af8ba32",
   "metadata": {},
   "source": [
    "### Task 1: Classify all 6 patients using R1, R2, R3\n",
    "\n",
    "We do a voting. Each satisifed recurrence rule gives +1 vote, each satisfied non-recurrence rule gives -1. "
   ]
  },
  {
   "cell_type": "code",
   "execution_count": 137,
   "id": "6caceea1",
   "metadata": {},
   "outputs": [
    {
     "name": "stdout",
     "output_type": "stream",
     "text": [
      "Patient 1: Vote = 2 -> Cancer\n",
      "Patient 2: Vote = -1 -> Cancer free\n",
      "Patient 3: Vote = 2 -> Cancer\n",
      "Patient 4: Vote = -1 -> Cancer free\n",
      "Patient 5: Vote = 1 -> Cancer\n",
      "Patient 6: Vote = -1 -> Cancer free\n"
     ]
    }
   ],
   "source": [
    "def classify_with_manual_rules(observation, R1, R2, R3):\n",
    "    vote_sum = 0\n",
    "    if evaluate_condition(observation, R1):\n",
    "        vote_sum += 1\n",
    "    if evaluate_condition(observation, R2):\n",
    "        vote_sum += 1\n",
    "    if evaluate_condition(observation, R3):\n",
    "        vote_sum -= 1\n",
    "\n",
    "    label = \"Cancer\" if vote_sum >= 0 else \"Cancer free\"\n",
    "    return vote_sum, label\n",
    "\n",
    "\n",
    "patient_id = 1\n",
    "for i in range(len(cancer_patients)):\n",
    "    vote, result = classify_with_manual_rules(cancer_patients[i], R1, R2, R3)\n",
    "    print(f\"Patient {patient_id}: Vote = {vote} -> {result}\")\n",
    "    patient_id += 1\n",
    "\n",
    "    vote, result = classify_with_manual_rules(cancer_free_patients[i], R1, R2, R3)\n",
    "    print(f\"Patient {patient_id}: Vote = {vote} -> {result}\")\n",
    "    patient_id += 1"
   ]
  },
  {
   "cell_type": "code",
   "execution_count": 138,
   "id": "c5b8316d",
   "metadata": {},
   "outputs": [],
   "source": [
    "class Memory:\n",
    "    def __init__(self, forget_value, memorize_value, memory):\n",
    "        self.memory = memory\n",
    "        self.forget_value = forget_value\n",
    "        self.memorize_value = memorize_value\n",
    "\n",
    "    def get_memory(self):\n",
    "        return self.memory\n",
    "    \n",
    "    def get_literals(self):\n",
    "        return list(self.memory.keys())\n",
    "    \n",
    "    def get_condition(self):\n",
    "        condition = []\n",
    "        for literal in self.memory:\n",
    "            if self.memory[literal] >= 6:\n",
    "                condition.append(literal)\n",
    "        return condition\n",
    "    \n",
    "    def memorize(self, literal):\n",
    "        if random.random() <= self.memorize_value and self.memory[literal] < 10:\n",
    "            self.memory[literal] += 1\n",
    "\n",
    "    def forget(self, literal):\n",
    "        if random.random() <= self.forget_value and self.memory[literal] > 1:\n",
    "            self.memory[literal] -= 1\n",
    "\n",
    "    def memorize_always(self, literal):\n",
    "        if self.memory[literal] < 10:\n",
    "            self.memory[literal] += 1"
   ]
  },
  {
   "cell_type": "markdown",
   "id": "8197fbd3",
   "metadata": {},
   "source": [
    "**Type I feedback:** Reinforces literals that match the current observation (and penalizes others with forgetting).  \n",
    "**Type II feedback:** If the current condition fires on a negative example, it strengthens negations to suppress it."
   ]
  },
  {
   "cell_type": "code",
   "execution_count": 139,
   "id": "2101958b",
   "metadata": {},
   "outputs": [],
   "source": [
    "def type_i_feedback(observation, memory):\n",
    "    remaining_literals = memory.get_literals()\n",
    "    if evaluate_condition(observation, memory.get_condition()) == True:\n",
    "        for feature in observation:\n",
    "            if observation[feature] == True:\n",
    "                memory.memorize(feature)\n",
    "                remaining_literals.remove(feature)\n",
    "            elif observation[feature] == False:\n",
    "                memory.memorize(\"NOT \" + feature)\n",
    "                remaining_literals.remove(\"NOT \" + feature)\n",
    "    for literal in remaining_literals:\n",
    "        memory.forget(literal)\n",
    "\n",
    "def type_ii_feedback(observation, memory):\n",
    "    if evaluate_condition(observation, memory.get_condition()) == True:\n",
    "        for feature in observation:\n",
    "            if observation[feature] == False:\n",
    "                memory.memorize_always(feature)\n",
    "            elif observation[feature] == True:\n",
    "                memory.memorize_always(\"NOT \" + feature)\n",
    "\n"
   ]
  },
  {
   "cell_type": "markdown",
   "id": "387c06ce",
   "metadata": {},
   "source": [
    "#### Training Utilities\n",
    "\n",
    "We learn one cluse for Recurrence and one clause for Non-recurrence by mixing Type I and Type II feedback."
   ]
  },
  {
   "cell_type": "code",
   "execution_count": 140,
   "id": "3da22b71",
   "metadata": {},
   "outputs": [],
   "source": [
    "def classify_patient(observation, pos_rules, neg_rules):\n",
    "    vote_sum = 0\n",
    "    for pos_rule in pos_rules:\n",
    "        if evaluate_condition(observation, pos_rule.get_condition()) == True:\n",
    "            vote_sum += 1\n",
    "    for neg_rule in neg_rules:\n",
    "        if evaluate_condition(observation, neg_rule.get_condition()) == True:\n",
    "            vote_sum -= 1\n",
    "\n",
    "    if vote_sum >= 0:\n",
    "        return \"Cancer\"         # Recurrence\n",
    "    else:\n",
    "        return \"Cancer free\"    # Non-recurrence\n",
    "    \n",
    "\n",
    "def train(cancer_patients, cancer_free_patients, cancer_rule, cancer_free_rule, iterations=100):\n",
    "    # Learn recurrence clause\n",
    "    for _ in range(iterations):\n",
    "        observation_id = choice([0, 1, 2])\n",
    "        cancer = choice([0, 1])\n",
    "        if cancer == 1:\n",
    "            type_i_feedback(cancer_patients[observation_id], cancer_rule)\n",
    "        else:\n",
    "            type_ii_feedback(cancer_free_patients[observation_id], cancer_rule)\n",
    "\n",
    "    # Learn non-recurrence clause\n",
    "    for _ in range(iterations):\n",
    "        observation_id = choice([0, 1, 2])\n",
    "        cancer = choice([0, 1])\n",
    "        if cancer == 1:\n",
    "            type_i_feedback(cancer_free_patients[observation_id], cancer_free_rule)\n",
    "        else:\n",
    "            type_ii_feedback(cancer_patients[observation_id], cancer_free_rule)"
   ]
  },
  {
   "cell_type": "markdown",
   "id": "20a600fb",
   "metadata": {},
   "source": [
    "### Task 2 & 3: Experiments\n",
    "\n",
    "Run the learning with three forget and memorize setting and see the learned conditions and accuracy."
   ]
  },
  {
   "cell_type": "markdown",
   "id": "e15ddec0",
   "metadata": {},
   "source": [
    "#### Forget value 0.8 and memorize value 0.2\n"
   ]
  },
  {
   "cell_type": "code",
   "execution_count": 141,
   "id": "3a7f2ee4",
   "metadata": {},
   "outputs": [
    {
     "name": "stdout",
     "output_type": "stream",
     "text": [
      "Recurrence rule: ['deg_malig_3', 'NOT lt40', 'NOT deg_malig_1', 'NOT deg_malig_2']\n",
      "Non-recurrence rule: ['NOT three_five']\n",
      "\n",
      "Cancer patients: 1188 / 1200\n",
      "Cancer free patients: 915 / 1200\n",
      "Total: 2103 / 2400\n"
     ]
    }
   ],
   "source": [
    "cancer_mem = {\n",
    "    \"lt40\": 5, \"ge40\": 5, \"premono\": 5, \n",
    "    \"zero_two\": 5, \"three_five\": 5, \"six_eight\": 5, \n",
    "    \"deg_malig_1\": 5, \"deg_malig_2\": 5, \"deg_malig_3\": 5,\n",
    "\n",
    "    \"NOT lt40\": 5, \"NOT ge40\": 5, \"NOT premono\": 5, \n",
    "    \"NOT zero_two\": 5, \"NOT three_five\": 5, \"NOT six_eight\": 5, \n",
    "    \"NOT deg_malig_1\": 5, \"NOT deg_malig_2\": 5, \"NOT deg_malig_3\": 5,\n",
    "}\n",
    "\n",
    "cancer_free_mem = {\n",
    "    \"lt40\": 5, \"ge40\": 5, \"premono\": 5, \n",
    "    \"zero_two\": 5, \"three_five\": 5, \"six_eight\": 5, \n",
    "    \"deg_malig_1\": 5, \"deg_malig_2\": 5, \"deg_malig_3\": 5,\n",
    "\n",
    "    \"NOT lt40\": 5, \"NOT ge40\": 5, \"NOT premono\": 5, \n",
    "    \"NOT zero_two\": 5, \"NOT three_five\": 5, \"NOT six_eight\": 5, \n",
    "    \"NOT deg_malig_1\": 5, \"NOT deg_malig_2\": 5, \"NOT deg_malig_3\": 5,\n",
    "}\n",
    "\n",
    "iter = 400\n",
    "cancer_recurrence = 0\n",
    "cancer_free_recurrence = 0\n",
    "\n",
    "cancer_rule = Memory(0.8, 0.2, cancer_mem)\n",
    "cancer_free_rule = Memory(0.8, 0.2, cancer_free_mem)\n",
    "\n",
    "for _ in range(iter):\n",
    "\n",
    "    train(cancer_patients, cancer_free_patients, cancer_rule, cancer_free_rule, iterations=100)\n",
    "\n",
    "    for j in range(3):\n",
    "        if classify_patient(cancer_patients[j], [cancer_rule], [cancer_free_rule]) == \"Cancer\":\n",
    "            cancer_recurrence += 1\n",
    "    \n",
    "\n",
    "    for j in range(3):\n",
    "        if classify_patient(cancer_free_patients[j], [cancer_rule], [cancer_free_rule]) == \"Cancer free\":\n",
    "            cancer_free_recurrence += 1\n",
    "\n",
    "    \n",
    "print(f\"Recurrence rule: {cancer_rule.get_condition()}\")\n",
    "print(f\"Non-recurrence rule: {cancer_free_rule.get_condition()}\\n\")\n",
    "\n",
    "print(f\"Cancer patients: {cancer_recurrence} / {iter * 3}\")\n",
    "print(f\"Cancer free patients: {cancer_free_recurrence} / {iter * 3}\")\n",
    "print(f\"Total: {cancer_recurrence + cancer_free_recurrence} / {iter * 6}\")\n"
   ]
  },
  {
   "cell_type": "markdown",
   "id": "14c017c0",
   "metadata": {},
   "source": [
    "#### Forget value 0.5 and memorize value 0.5"
   ]
  },
  {
   "cell_type": "code",
   "execution_count": 142,
   "id": "99443ba7",
   "metadata": {},
   "outputs": [
    {
     "name": "stdout",
     "output_type": "stream",
     "text": [
      "Recurrence rule: ['ge40', 'deg_malig_3', 'NOT lt40', 'NOT premono', 'NOT zero_two', 'NOT deg_malig_1', 'NOT deg_malig_2']\n",
      "Non-recurrence rule: ['zero_two', 'NOT six_eight']\n",
      "\n",
      "Cancer patients: 1187 / 1200\n",
      "Cancer free patients: 723 / 1200\n",
      "Total: 1910 / 2400\n"
     ]
    }
   ],
   "source": [
    "cancer_mem = {\n",
    "    \"lt40\": 5, \"ge40\": 5, \"premono\": 5, \n",
    "    \"zero_two\": 5, \"three_five\": 5, \"six_eight\": 5, \n",
    "    \"deg_malig_1\": 5, \"deg_malig_2\": 5, \"deg_malig_3\": 5,\n",
    "\n",
    "    \"NOT lt40\": 5, \"NOT ge40\": 5, \"NOT premono\": 5, \n",
    "    \"NOT zero_two\": 5, \"NOT three_five\": 5, \"NOT six_eight\": 5, \n",
    "    \"NOT deg_malig_1\": 5, \"NOT deg_malig_2\": 5, \"NOT deg_malig_3\": 5,\n",
    "}\n",
    "\n",
    "cancer_free_mem = {\n",
    "    \"lt40\": 5, \"ge40\": 5, \"premono\": 5, \n",
    "    \"zero_two\": 5, \"three_five\": 5, \"six_eight\": 5, \n",
    "    \"deg_malig_1\": 5, \"deg_malig_2\": 5, \"deg_malig_3\": 5,\n",
    "\n",
    "    \"NOT lt40\": 5, \"NOT ge40\": 5, \"NOT premono\": 5, \n",
    "    \"NOT zero_two\": 5, \"NOT three_five\": 5, \"NOT six_eight\": 5, \n",
    "    \"NOT deg_malig_1\": 5, \"NOT deg_malig_2\": 5, \"NOT deg_malig_3\": 5,\n",
    "}\n",
    "\n",
    "iter = 400\n",
    "cancer_recurrence = 0\n",
    "cancer_free_recurrence = 0\n",
    "\n",
    "cancer_rule = Memory(0.5, 0.5, cancer_mem)\n",
    "cancer_free_rule = Memory(0.5, 0.5, cancer_free_mem)\n",
    "\n",
    "for _ in range(iter):\n",
    "\n",
    "    train(cancer_patients, cancer_free_patients, cancer_rule, cancer_free_rule, iterations=100)\n",
    "\n",
    "    for j in range(3):\n",
    "        if classify_patient(cancer_patients[j], [cancer_rule], [cancer_free_rule]) == \"Cancer\":\n",
    "            cancer_recurrence += 1\n",
    "    \n",
    "\n",
    "    for j in range(3):\n",
    "        if classify_patient(cancer_free_patients[j], [cancer_rule], [cancer_free_rule]) == \"Cancer free\":\n",
    "            cancer_free_recurrence += 1\n",
    "\n",
    "\n",
    "print(f\"Recurrence rule: {cancer_rule.get_condition()}\")\n",
    "print(f\"Non-recurrence rule: {cancer_free_rule.get_condition()}\\n\")\n",
    "\n",
    "print(f\"Cancer patients: {cancer_recurrence} / {iter * 3}\")\n",
    "print(f\"Cancer free patients: {cancer_free_recurrence} / {iter * 3}\")\n",
    "print(f\"Total: {cancer_recurrence + cancer_free_recurrence} / {iter * 6}\")"
   ]
  },
  {
   "cell_type": "markdown",
   "id": "a1c4d5a7",
   "metadata": {},
   "source": [
    "#### Forget value 0.2 and memorize value 0.8"
   ]
  },
  {
   "cell_type": "code",
   "execution_count": 143,
   "id": "f315374b",
   "metadata": {},
   "outputs": [
    {
     "name": "stdout",
     "output_type": "stream",
     "text": [
      "Recurrence rule: ['ge40', 'three_five', 'deg_malig_3', 'NOT lt40', 'NOT premono', 'NOT zero_two', 'NOT six_eight', 'NOT deg_malig_1', 'NOT deg_malig_2']\n",
      "Non-recurrence rule: ['lt40', 'zero_two', 'NOT ge40', 'NOT premono', 'NOT three_five', 'NOT six_eight', 'NOT deg_malig_1', 'NOT deg_malig_2']\n",
      "\n",
      "Cancer patients: 1200 / 1200\n",
      "Cancer free patients: 402 / 1200\n",
      "Total: 1602 / 2400\n"
     ]
    }
   ],
   "source": [
    "cancer_mem = {\n",
    "    \"lt40\": 5, \"ge40\": 5, \"premono\": 5, \n",
    "    \"zero_two\": 5, \"three_five\": 5, \"six_eight\": 5, \n",
    "    \"deg_malig_1\": 5, \"deg_malig_2\": 5, \"deg_malig_3\": 5,\n",
    "\n",
    "    \"NOT lt40\": 5, \"NOT ge40\": 5, \"NOT premono\": 5, \n",
    "    \"NOT zero_two\": 5, \"NOT three_five\": 5, \"NOT six_eight\": 5, \n",
    "    \"NOT deg_malig_1\": 5, \"NOT deg_malig_2\": 5, \"NOT deg_malig_3\": 5,\n",
    "}\n",
    "\n",
    "cancer_free_mem = {\n",
    "    \"lt40\": 5, \"ge40\": 5, \"premono\": 5, \n",
    "    \"zero_two\": 5, \"three_five\": 5, \"six_eight\": 5, \n",
    "    \"deg_malig_1\": 5, \"deg_malig_2\": 5, \"deg_malig_3\": 5,\n",
    "\n",
    "    \"NOT lt40\": 5, \"NOT ge40\": 5, \"NOT premono\": 5, \n",
    "    \"NOT zero_two\": 5, \"NOT three_five\": 5, \"NOT six_eight\": 5, \n",
    "    \"NOT deg_malig_1\": 5, \"NOT deg_malig_2\": 5, \"NOT deg_malig_3\": 5,\n",
    "}\n",
    "\n",
    "iter = 400\n",
    "cancer_recurrence = 0\n",
    "cancer_free_recurrence = 0\n",
    "\n",
    "cancer_rule = Memory(0.2, 0.8, cancer_mem)\n",
    "cancer_free_rule = Memory(0.2, 0.8, cancer_free_mem)\n",
    "\n",
    "for _ in range(iter):\n",
    "\n",
    "    train(cancer_patients, cancer_free_patients, cancer_rule, cancer_free_rule, iterations=100)\n",
    "\n",
    "    for j in range(3):\n",
    "        if classify_patient(cancer_patients[j], [cancer_rule], [cancer_free_rule]) == \"Cancer\":\n",
    "            cancer_recurrence += 1\n",
    "    \n",
    "\n",
    "    for j in range(3):\n",
    "        if classify_patient(cancer_free_patients[j], [cancer_rule], [cancer_free_rule]) == \"Cancer free\":\n",
    "            cancer_free_recurrence += 1\n",
    "\n",
    "\n",
    "print(f\"Recurrence rule: {cancer_rule.get_condition()}\")\n",
    "print(f\"Non-recurrence rule: {cancer_free_rule.get_condition()}\\n\")\n",
    "\n",
    "print(f\"Cancer patients: {cancer_recurrence} / {iter * 3}\")\n",
    "print(f\"Cancer free patients: {cancer_free_recurrence} / {iter * 3}\")\n",
    "print(f\"Total: {cancer_recurrence + cancer_free_recurrence} / {iter * 6}\")"
   ]
  },
  {
   "cell_type": "markdown",
   "id": "4eb994d5",
   "metadata": {},
   "source": [
    "## Discussion\n",
    "\n",
    "- When the **memorize** value is high compared to **forget**, the rules keep more literals.  \n",
    "  This can make the rules too detailed for such a small dataset.  \n",
    "- When the **forget** value is high, the rules become shorter because more literals are removed.  \n",
    "- Since we only use one rule for each class and the dataset is very small (3 + 3 patients),  \n",
    "  the results can change a bit each time we run the training.  \n",
    "\n"
   ]
  }
 ],
 "metadata": {
  "kernelspec": {
   "display_name": ".IKT457_venv",
   "language": "python",
   "name": "python3"
  },
  "language_info": {
   "codemirror_mode": {
    "name": "ipython",
    "version": 3
   },
   "file_extension": ".py",
   "mimetype": "text/x-python",
   "name": "python",
   "nbconvert_exporter": "python",
   "pygments_lexer": "ipython3",
   "version": "3.13.0"
  }
 },
 "nbformat": 4,
 "nbformat_minor": 5
}
