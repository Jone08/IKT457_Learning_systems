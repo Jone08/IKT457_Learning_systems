{
  "cells": [
    {
      "cell_type": "markdown",
      "metadata": {},
      "source": [
        "# IKT457 — Assignment 2: Tsetlin Machine (Breast Cancer Rules)\n",
        "\n",
        "**Student:** _<your name here>_  \n",
        "**Course:** IKT457  \n",
        "**Notebook generated:** 2025-09-19 07:00:54\n",
        "\n",
        "This notebook follows the assignment instructions:\n",
        "\n",
        "**Task 1**\n",
        "1. Use the Jupyter Notebook for Chapter 1 as a starting point (conceptual inspiration).\n",
        "2. Create a dataset for the 6 breast cancer patients.\n",
        "3. Add the three breast cancer recurrence rules **R1**, **R2**, and **R3** manually (from slides).\n",
        "4. Classify all 6 patients with the three rules.\n",
        "\n",
        "**Task 2**\n",
        "- Mix Type I and Type II Feedback with forget value **0.8** and memorize value **0.2** to learn a rule for **Recurrence**.\n",
        "- Mix Type I and Type II Feedback with forget value **0.8** and memorize value **0.2** to learn a rule for **Non‑recurrence**.\n",
        "\n",
        "**Task 3**\n",
        "- Repeat Task 2 with values **(forget=0.5, memorize=0.5)** and **(forget=0.2, memorize=0.8)**.\n",
        "\n",
        "The code is intentionally simple and self‑contained to make the learning dynamics transparent."
      ]
    },
    {
      "cell_type": "code",
      "execution_count": 53,
      "id": "be7d5051",
      "metadata": {},
      "outputs": [],
      "source": [
        "# --- Setup & Imports ---\n",
        "import random\n",
        "from random import choice\n",
        "from pprint import pprint\n",
        "\n",
        "# Deterministic runs for reproducibility\n",
        "RANDOM_SEED = 42\n",
        "random.seed(RANDOM_SEED)"
      ]
    },
    {
      "cell_type": "markdown",
      "id": "6bc3d1f9",
      "metadata": {},
      "source": [
        "## Data: 6 Patients (3 Recurrence, 3 Non-recurrence)\n",
        "\n",
        "We encode each patient with boolean literals. A literal named `NOT x` denotes the negation of feature `x`."
      ]
    },
    {
      "cell_type": "code",
      "execution_count": 54,
      "id": "b5be597f",
      "metadata": {},
      "outputs": [
        {
          "name": "stdout",
          "output_type": "stream",
          "text": [
            "Patients with Recurrence (3):\n",
            "[{'deg_malig_1': False,\n",
            "  'deg_malig_2': False,\n",
            "  'deg_malig_3': True,\n",
            "  'ge40': True,\n",
            "  'lt40': False,\n",
            "  'premono': False,\n",
            "  'six_eight': False,\n",
            "  'three_five': True,\n",
            "  'zero_two': False},\n",
            " {'deg_malig_1': False,\n",
            "  'deg_malig_2': False,\n",
            "  'deg_malig_3': True,\n",
            "  'ge40': True,\n",
            "  'lt40': False,\n",
            "  'premono': False,\n",
            "  'six_eight': True,\n",
            "  'three_five': False,\n",
            "  'zero_two': False},\n",
            " {'deg_malig_1': False,\n",
            "  'deg_malig_2': False,\n",
            "  'deg_malig_3': True,\n",
            "  'ge40': False,\n",
            "  'lt40': False,\n",
            "  'premono': True,\n",
            "  'six_eight': False,\n",
            "  'three_five': False,\n",
            "  'zero_two': True}]\n",
            "\n",
            "Patients with Non-recurrence (3):\n",
            "[{'deg_malig_1': False,\n",
            "  'deg_malig_2': False,\n",
            "  'deg_malig_3': True,\n",
            "  'ge40': False,\n",
            "  'lt40': True,\n",
            "  'premono': False,\n",
            "  'six_eight': False,\n",
            "  'three_five': False,\n",
            "  'zero_two': True},\n",
            " {'deg_malig_1': False,\n",
            "  'deg_malig_2': True,\n",
            "  'deg_malig_3': False,\n",
            "  'ge40': True,\n",
            "  'lt40': False,\n",
            "  'premono': False,\n",
            "  'six_eight': False,\n",
            "  'three_five': False,\n",
            "  'zero_two': True},\n",
            " {'deg_malig_1': True,\n",
            "  'deg_malig_2': False,\n",
            "  'deg_malig_3': False,\n",
            "  'ge40': False,\n",
            "  'lt40': False,\n",
            "  'premono': True,\n",
            "  'six_eight': False,\n",
            "  'three_five': False,\n",
            "  'zero_two': True}]\n"
          ]
        }
      ],
      "source": [
        "# Recurrence (cancer) patients\n",
        "cancer_patients = [\n",
        "    {\"lt40\": False, \"ge40\": True,  \"premono\": False,\n",
        "     \"zero_two\": False, \"three_five\": True, \"six_eight\": False,\n",
        "     \"deg_malig_1\": False, \"deg_malig_2\": False, \"deg_malig_3\": True},\n",
        "\n",
        "    {\"lt40\": False, \"ge40\": True,  \"premono\": False,\n",
        "     \"zero_two\": False, \"three_five\": False, \"six_eight\": True,\n",
        "     \"deg_malig_1\": False, \"deg_malig_2\": False, \"deg_malig_3\": True},\n",
        "\n",
        "    {\"lt40\": False, \"ge40\": False, \"premono\": True,\n",
        "     \"zero_two\": True, \"three_five\": False, \"six_eight\": False,\n",
        "     \"deg_malig_1\": False, \"deg_malig_2\": False, \"deg_malig_3\": True},\n",
        "]\n",
        "\n",
        "# Non-recurrence (cancer-free) patients\n",
        "cancer_free_patients = [\n",
        "    {\"lt40\": True,  \"ge40\": False, \"premono\": False,\n",
        "     \"zero_two\": True, \"three_five\": False, \"six_eight\": False,\n",
        "     \"deg_malig_1\": False, \"deg_malig_2\": False, \"deg_malig_3\": True},\n",
        "\n",
        "    {\"lt40\": False, \"ge40\": True,  \"premono\": False,\n",
        "     \"zero_two\": True, \"three_five\": False, \"six_eight\": False,\n",
        "     \"deg_malig_1\": False, \"deg_malig_2\": True,  \"deg_malig_3\": False},\n",
        "\n",
        "    {\"lt40\": False, \"ge40\": False, \"premono\": True,\n",
        "     \"zero_two\": True, \"three_five\": False, \"six_eight\": False,\n",
        "     \"deg_malig_1\": True,  \"deg_malig_2\": False, \"deg_malig_3\": False},\n",
        "]\n",
        "print(\"Patients with Recurrence (3):\")\n",
        "pprint(cancer_patients)\n",
        "print(\"\\nPatients with Non-recurrence (3):\")\n",
        "pprint(cancer_free_patients)"
      ]
    },
    {
      "cell_type": "markdown",
      "id": "fc78c953",
      "metadata": {},
      "source": [
        "## Rule Evaluation Helper\n",
        "\n",
        "A *condition* is a list of literals like `[\"deg_malig_3\", \"NOT lt40\"]`.  \n",
        "The function below checks whether an observation satisfies all literals."
      ]
    },
    {
      "cell_type": "code",
      "execution_count": 55,
      "id": "54ec3495",
      "metadata": {},
      "outputs": [],
      "source": [
        "def evaluate_condition(observation, condition):\n",
        "    \"\"\"Return True iff observation satisfies all literals in condition.\"\"\"\n",
        "    for feature in observation:\n",
        "        # Positive literal must be True\n",
        "        if feature in condition and observation[feature] is False:\n",
        "            return False\n",
        "        # Negative literal must be False\n",
        "        if ('NOT ' + feature) in condition and observation[feature] is True:\n",
        "            return False\n",
        "    return True"
      ]
    },
    {
      "cell_type": "markdown",
      "id": "e23786f5",
      "metadata": {},
      "source": [
        "## Manual Rules R1, R2, R3 (from slides)\n",
        "\n",
        "- **R1** → Recurrence  \n",
        "- **R2** → Recurrence  \n",
        "- **R3** → Non‑recurrence\n",
        "\n",
        "> Note: In the provided slide set, R1 and R2 can be identical (representing two positive \"votes\").  \n",
        "> If your slide shows different literals for R2, update it here."
      ]
    },
    {
      "cell_type": "code",
      "execution_count": 56,
      "id": "30183881",
      "metadata": {},
      "outputs": [],
      "source": [
        "# Example from your solution (R1 and R2 identical):\n",
        "R1 = [\"deg_malig_3\", \"NOT lt40\"]   # -> Recurrence\n",
        "R2 = [\"deg_malig_3\", \"NOT lt40\"]   # -> Recurrence\n",
        "R3 = [\"zero_two\"]                  # -> Non-recurrence"
      ]
    },
    {
      "cell_type": "markdown",
      "id": "14ad769d",
      "metadata": {},
      "source": [
        "## Task 1: Classify All 6 Patients Using R1, R2, R3\n",
        "\n",
        "We do a simple voting: each satisfied recurrence rule gives +1 vote, each satisfied non‑recurrence rule gives −1.  \n",
        "**Tie-breaking:** we treat strictly positive totals as *Recurrence*. This avoids classifying a patient as Recurrence when no rule fires."
      ]
    },
    {
      "cell_type": "code",
      "execution_count": 57,
      "id": "bde3c2a1",
      "metadata": {},
      "outputs": [
        {
          "name": "stdout",
          "output_type": "stream",
          "text": [
            "### Results on 6 patients with (R1,R2,R3) \n",
            "\n",
            "Recurrence patient 1: Recurrence\n",
            "Recurrence patient 2: Recurrence\n",
            "Recurrence patient 3: Recurrence\n",
            "Non-recurrence patient 1: Non-recurrence\n",
            "Non-recurrence patient 2: Non-recurrence\n",
            "Non-recurrence patient 3: Non-recurrence\n"
          ]
        }
      ],
      "source": [
        "def classify_with_manual_rules(observation, R1, R2, R3):\n",
        "    vote_sum = 0\n",
        "    if evaluate_condition(observation, R1): vote_sum += 1\n",
        "    if evaluate_condition(observation, R2): vote_sum += 1\n",
        "    if evaluate_condition(observation, R3): vote_sum -= 1\n",
        "    return \"Recurrence\" if vote_sum > 0 else \"Non-recurrence\"\n",
        "\n",
        "print(\"### Results on 6 patients with (R1,R2,R3) \\n\")\n",
        "\n",
        "for i in range(3):\n",
        "    print(f\"Recurrence patient {i+1}:\",\n",
        "          classify_with_manual_rules(cancer_patients[i], R1, R2, R3))\n",
        "for i in range(3):\n",
        "    print(f\"Non-recurrence patient {i+1}:\",\n",
        "          classify_with_manual_rules(cancer_free_patients[i], R1, R2, R3))"
      ]
    },
    {
      "cell_type": "markdown",
      "id": "068a1d96",
      "metadata": {},
      "source": [
        "## A Simple Memory Model (Clause-like)\n",
        "\n",
        "We emulate the effect of Tsetlin clauses by maintaining a *score* for each literal.  \n",
        "- Scores are in `[1, 10]` for stability.  \n",
        "- A learned **condition** consists of all literals with score ≥ 6 (you can tweak the threshold).\n",
        "\n",
        "**Type I feedback:** Reinforces literals that match the current observation (and penalizes others with forgetting).  \n",
        "**Type II feedback:** If the current condition fires on a negative example, it strengthens negations to suppress it."
      ]
    },
    {
      "cell_type": "code",
      "execution_count": 58,
      "id": "6972ca70",
      "metadata": {},
      "outputs": [],
      "source": [
        "class Memory:\n",
        "    def __init__(self, forget_value, memorize_value, memory):\n",
        "        self.memory = memory\n",
        "        self.forget_value = forget_value\n",
        "        self.memorize_value = memorize_value\n",
        "\n",
        "    def get_memory(self):\n",
        "        return self.memory\n",
        "\n",
        "    def get_literals(self):\n",
        "        return list(self.memory.keys())\n",
        "\n",
        "    def get_condition(self, threshold=6):\n",
        "        return [lit for lit,score in self.memory.items() if score >= threshold]\n",
        "\n",
        "    def memorize(self, literal):\n",
        "        if random.random() <= self.memorize_value and self.memory[literal] < 10:\n",
        "            self.memory[literal] += 1\n",
        "\n",
        "    def forget(self, literal):\n",
        "        if random.random() <= self.forget_value and self.memory[literal] > 1:\n",
        "            self.memory[literal] -= 1\n",
        "\n",
        "    def memorize_always(self, literal):\n",
        "        if self.memory[literal] < 10:\n",
        "            self.memory[literal] += 1\n",
        "\n",
        "def fresh_memory(init_score=5):\n",
        "    feats = [\"lt40\",\"ge40\",\"premono\",\"zero_two\",\"three_five\",\"six_eight\",\n",
        "             \"deg_malig_1\",\"deg_malig_2\",\"deg_malig_3\"]\n",
        "    mem = {f:init_score for f in feats}\n",
        "    mem.update({f\"NOT {f}\":init_score for f in feats})\n",
        "    return mem"
      ]
    },
    {
      "cell_type": "code",
      "execution_count": 59,
      "id": "30e24230",
      "metadata": {},
      "outputs": [],
      "source": [
        "def type_i_feedback(observation, memory: Memory):\n",
        "    \"\"\"Reinforce matching literals; softly forget the rest.\"\"\"\n",
        "    remaining = set(memory.get_literals())\n",
        "    for feature, val in observation.items():\n",
        "        if val:\n",
        "            memory.memorize(feature)\n",
        "            remaining.discard(feature)\n",
        "        else:\n",
        "            neg = \"NOT \" + feature\n",
        "            memory.memorize(neg)\n",
        "            remaining.discard(neg)\n",
        "    for lit in remaining:\n",
        "        memory.forget(lit)\n",
        "\n",
        "def type_ii_feedback(observation, memory: Memory):\n",
        "    \"\"\"If current condition fires but should not, push opposing literals.\"\"\"\n",
        "    if evaluate_condition(observation, memory.get_condition()):\n",
        "        for feature, val in observation.items():\n",
        "            if not val:\n",
        "                memory.memorize_always(feature)\n",
        "            else:\n",
        "                memory.memorize_always(\"NOT \" + feature)"
      ]
    },
    {
      "cell_type": "markdown",
      "id": "9a019227",
      "metadata": {},
      "source": [
        "## Training Utilities\n",
        "\n",
        "We learn **one clause** for Recurrence and **one clause** for Non‑recurrence by mixing Type I/II feedback on examples."
      ]
    },
    {
      "cell_type": "code",
      "execution_count": 60,
      "id": "4a077289",
      "metadata": {},
      "outputs": [],
      "source": [
        "def classify_patient(observation, pos_rules, neg_rules, threshold=6):\n",
        "    vote_sum = 0\n",
        "    for pos_rule in pos_rules:\n",
        "        if evaluate_condition(observation, pos_rule.get_condition(threshold)): vote_sum += 1\n",
        "    for neg_rule in neg_rules:\n",
        "        if evaluate_condition(observation, neg_rule.get_condition(threshold)): vote_sum -= 1\n",
        "    return \"Recurrence\" if vote_sum > 0 else \"Non-recurrence\"\n",
        "\n",
        "def train(cancer_patients, cancer_free_patients, cancer_rule, cancer_free_rule, iterations=100):\n",
        "    # Learn recurrence clause\n",
        "    for _ in range(iterations):\n",
        "        idx = choice([0,1,2])\n",
        "        y = choice([0,1])  # 1 => recurrence example, 0 => non-recurrence\n",
        "        if y == 1:\n",
        "            type_i_feedback(cancer_patients[idx], cancer_rule)\n",
        "        else:\n",
        "            type_ii_feedback(cancer_free_patients[idx], cancer_rule)\n",
        "\n",
        "    # Learn non-recurrence clause\n",
        "    for _ in range(iterations):\n",
        "        idx = choice([0,1,2])\n",
        "        y = choice([0,1])  # 1 => non-recurrence example, 0 => recurrence\n",
        "        if y == 1:\n",
        "            type_i_feedback(cancer_free_patients[idx], cancer_free_rule)\n",
        "        else:\n",
        "            type_ii_feedback(cancer_patients[idx], cancer_free_rule)\n",
        "\n",
        "def evaluate_all(cancer_rule, cancer_free_rule, threshold=6):\n",
        "    correct = 0\n",
        "    for j in range(3):\n",
        "        if classify_patient(cancer_patients[j],[cancer_rule],[cancer_free_rule],threshold) == \"Recurrence\":\n",
        "            correct += 1\n",
        "        if classify_patient(cancer_free_patients[j],[cancer_rule],[cancer_free_rule],threshold) == \"Non-recurrence\":\n",
        "            correct += 1\n",
        "    return correct, 6  # total samples"
      ]
    },
    {
      "cell_type": "markdown",
      "id": "c5a70f11",
      "metadata": {},
      "source": [
        "## Experiments (Tasks 2 & 3)\n",
        "\n",
        "We run the learning with three (forget, memorize) settings and report the learned conditions and accuracy across the 6 patients."
      ]
    },
    {
      "cell_type": "code",
      "execution_count": 61,
      "id": "ab24b1ea",
      "metadata": {},
      "outputs": [
        {
          "name": "stdout",
          "output_type": "stream",
          "text": [
            "### Task 2: forget=0.8, memorize=0.2\n",
            "Params: forget=0.8, memorize=0.2\n",
            "  Learned Recurrence condition:     ['deg_malig_3', 'NOT lt40', 'NOT deg_malig_1', 'NOT deg_malig_2']\n",
            "  Learned Non-recurrence condition: ['zero_two', 'NOT three_five', 'NOT six_eight', 'NOT deg_malig_3']\n",
            "  Accuracy: 6/6 = 1.00\n",
            "\n",
            "### Task 3a: forget=0.5, memorize=0.5\n",
            "Params: forget=0.5, memorize=0.5\n",
            "  Learned Recurrence condition:     ['ge40', 'deg_malig_3', 'NOT lt40', 'NOT premono', 'NOT zero_two', 'NOT three_five', 'NOT six_eight', 'NOT deg_malig_1', 'NOT deg_malig_2']\n",
            "  Learned Non-recurrence condition: ['zero_two', 'NOT lt40', 'NOT ge40', 'NOT premono', 'NOT three_five', 'NOT six_eight', 'NOT deg_malig_1', 'NOT deg_malig_2', 'NOT deg_malig_3']\n",
            "  Accuracy: 3/6 = 0.50\n",
            "\n",
            "### Task 3b: forget=0.2, memorize=0.8\n",
            "Params: forget=0.2, memorize=0.8\n",
            "  Learned Recurrence condition:     ['ge40', 'premono', 'zero_two', 'three_five', 'six_eight', 'deg_malig_3', 'NOT lt40', 'NOT ge40', 'NOT premono', 'NOT zero_two', 'NOT three_five', 'NOT six_eight', 'NOT deg_malig_1', 'NOT deg_malig_2']\n",
            "  Learned Non-recurrence condition: ['lt40', 'ge40', 'premono', 'zero_two', 'deg_malig_1', 'deg_malig_2', 'deg_malig_3', 'NOT lt40', 'NOT ge40', 'NOT premono', 'NOT three_five', 'NOT six_eight', 'NOT deg_malig_1', 'NOT deg_malig_2', 'NOT deg_malig_3']\n",
            "  Accuracy: 3/6 = 0.50\n",
            "\n"
          ]
        }
      ],
      "source": [
        "def run_experiment(forget, memorize, repetitions=50, iters_per_rep=100, threshold=6):\n",
        "    cancer_rule = Memory(forget, memorize, fresh_memory())\n",
        "    cancer_free_rule = Memory(forget, memorize, fresh_memory())\n",
        "    # Multiple short training bursts improve stability while keeping it simple\n",
        "    for _ in range(repetitions):\n",
        "        train(cancer_patients, cancer_free_patients, cancer_rule, cancer_free_rule, iterations=iters_per_rep)\n",
        "\n",
        "    correct, total = evaluate_all(cancer_rule, cancer_free_rule, threshold)\n",
        "    print(f\"\"\"Params: forget={forget}, memorize={memorize}\n",
        "  Learned Recurrence condition:     {cancer_rule.get_condition(threshold)}\n",
        "  Learned Non-recurrence condition: {cancer_free_rule.get_condition(threshold)}\n",
        "  Accuracy: {correct}/{total} = {correct/total:.2f}\n",
        "\"\"\")\n",
        "    return cancer_rule, cancer_free_rule\n",
        "\n",
        "print(\"### Task 2: forget=0.8, memorize=0.2\")\n",
        "_ = run_experiment(0.8, 0.2)\n",
        "\n",
        "print(\"### Task 3a: forget=0.5, memorize=0.5\")\n",
        "_ = run_experiment(0.5, 0.5)\n",
        "\n",
        "print(\"### Task 3b: forget=0.2, memorize=0.8\")\n",
        "_ = run_experiment(0.2, 0.8)"
      ]
    },
    {
      "cell_type": "markdown",
      "metadata": {},
      "source": [
        "## Discussion\n",
        "\n",
        "- Increasing **memorize** relative to **forget** tends to produce **larger conditions** (more literals retained),\n",
        "  which can overfit on tiny datasets. Conversely, high **forget** prunes more aggressively.\n",
        "- Because we use a single clause per class and a tiny dataset (3+3 samples),\n",
        "  results vary slightly with randomness; setting a **seed** helps reproducibility.\n",
        "- You can adjust the threshold in `get_condition(threshold=...)` to make the learned clause stricter/looser.\n",
        "\n",
        "> If your slide specifies a different **R2** than **R1**, update `R2` in the rules cell and re-run the Task 1 block."
      ]
    }
  ],
  "metadata": {
    "kernelspec": {
      "display_name": ".IKT457_venv",
      "language": "python",
      "name": "python3"
    },
    "language_info": {
      "codemirror_mode": {
        "name": "ipython",
        "version": 3
      },
      "file_extension": ".py",
      "mimetype": "text/x-python",
      "name": "python",
      "nbconvert_exporter": "python",
      "pygments_lexer": "ipython3",
      "version": "3.13.0"
    }
  },
  "nbformat": 4,
  "nbformat_minor": 5
}
