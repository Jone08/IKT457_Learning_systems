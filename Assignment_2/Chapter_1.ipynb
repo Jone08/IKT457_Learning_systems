{
 "cells": [
  {
   "cell_type": "markdown",
   "id": "3ec61780",
   "metadata": {},
   "source": [
    "# Chapter 1\n",
    "\n",
    "This Jupyter Notebook implements key parts of Chapter 1 of the book \"An Introduction to Tsetlin Machines\". The book can be downloaded here https://tsetlinmachine.org."
   ]
  },
  {
   "cell_type": "markdown",
   "id": "732c9b7b",
   "metadata": {},
   "source": [
    "## Boolean Features"
   ]
  },
  {
   "cell_type": "markdown",
   "id": "41041f6c",
   "metadata": {},
   "source": [
    "You first need observations that the Tsetlin machine can learn from. The following dataset contains three objects of type _Car_. They are characterized by five Boolean features: _Four Wheels_, _Transports People_, _Wings_, _Yellow_, and _Blue_. The first object in the dataset, for instance, has _Four Wheels_, _Transports People_, does not have _Wings_, is _Blue_, but not _Yellow_. "
   ]
  },
  {
   "cell_type": "code",
   "execution_count": 179,
   "id": "9bb2d1c8",
   "metadata": {},
   "outputs": [],
   "source": [
    "cars = [\n",
    "    {'Four Wheels':True, 'Transports People':True, 'Wings':False, 'Yellow':False, 'Blue':True},\n",
    "    {'Four Wheels':True, 'Transports People':True, 'Wings':False, 'Yellow':True, 'Blue':False},\n",
    "    {'Four Wheels':True, 'Transports People':True, 'Wings':False, 'Yellow':True, 'Blue':False}\n",
    "]"
   ]
  },
  {
   "cell_type": "markdown",
   "id": "61de1acd",
   "metadata": {},
   "source": [
    "## Creating Patterns with AND and NOT\n",
    "\n",
    "The Tsetlin machine learns to recognize different object types by creating _if-then rules_. Each rule has the form: __if__ _condition_ __then__ _class_."
   ]
  },
  {
   "cell_type": "markdown",
   "id": "2a5969ab",
   "metadata": {},
   "source": [
    "The _condition_ is an __and__-expression while the _class_ is a type of object. You can use the method `evaluate_condition()` to evaluate the condition of a rule:"
   ]
  },
  {
   "cell_type": "code",
   "execution_count": 180,
   "id": "22e7c56f",
   "metadata": {},
   "outputs": [],
   "source": [
    "def evaluate_condition(observation, condition):\n",
    "    truth_value_of_condition = True\n",
    "    for feature in observation:\n",
    "        if feature in condition and observation[feature] == False:\n",
    "            truth_value_of_condition = False\n",
    "            break\n",
    "        if 'NOT ' + feature in condition and observation[feature] == True:\n",
    "            truth_value_of_condition = False\n",
    "            break\n",
    "    return truth_value_of_condition"
   ]
  },
  {
   "cell_type": "markdown",
   "id": "dfc47e80",
   "metadata": {},
   "source": [
    "For instance, create the condition"
   ]
  },
  {
   "cell_type": "code",
   "execution_count": 181,
   "id": "cfbba249",
   "metadata": {},
   "outputs": [],
   "source": [
    "example_condition = ['Four Wheels', 'Transports People', 'NOT Wings']"
   ]
  },
  {
   "cell_type": "markdown",
   "id": "7e664f4b",
   "metadata": {},
   "source": [
    "This condition means: _Four Wheels_ __and__ _Transports People_ __and__ __not__ _Wings_. Now, evaluate the condition on the first object in the dataset:"
   ]
  },
  {
   "cell_type": "code",
   "execution_count": 182,
   "id": "ae72ef89",
   "metadata": {
    "scrolled": true
   },
   "outputs": [
    {
     "data": {
      "text/plain": [
       "True"
      ]
     },
     "execution_count": 182,
     "metadata": {},
     "output_type": "execute_result"
    }
   ],
   "source": [
    "evaluate_condition(cars[0], example_condition)"
   ]
  },
  {
   "cell_type": "markdown",
   "id": "8cef3ea8",
   "metadata": {},
   "source": [
    "Since the first object in the dataset has _Four Wheels_, _Transports People_, and does not have _Wings_, the __and__-expression becomes _True_."
   ]
  },
  {
   "cell_type": "markdown",
   "id": "f6a934aa",
   "metadata": {},
   "source": [
    "## Learning Frequent Patterns with Type I Feedback"
   ]
  },
  {
   "cell_type": "markdown",
   "id": "bc5329fb",
   "metadata": {},
   "source": [
    "### Rule Memory"
   ]
  },
  {
   "cell_type": "markdown",
   "id": "e784bfd2",
   "metadata": {},
   "source": [
    "You are now about to discover how a single if-then rule learns to recognizing frequent _Car_ patterns. To this end, the rule has its own memory for storing literals. The memory simulates memorization and forgetting, visualized in the figure below,"
   ]
  },
  {
   "cell_type": "markdown",
   "id": "6e03018f",
   "metadata": {},
   "source": [
    "<div>\n",
    "<img src=\"attachment:Tsetlin_Machine_Memory_1_1.png\" width=\"800\"/>\n",
    "</div>"
   ]
  },
  {
   "cell_type": "markdown",
   "id": "2c4034b1",
   "metadata": {},
   "source": [
    "The y-axis ranges from 1 to 10 and measures how deeply the memory stores each literal:\n",
    "\n",
    "* Values 1 to 5 stand for _Forgotten_. Value 1 means maximally forgotten while value 5 means almost memorized. Literals in this range _do not_ take part in the rule's condition.\n",
    "* Values 6 to 10 mean _Memorized_. Value 6 stands for lightly retained, and value 10 represents maximally memorized. Literals in this range take part in the condition of the rule.\n",
    "\n",
    "You can implement the memory as a class:"
   ]
  },
  {
   "cell_type": "code",
   "execution_count": null,
   "id": "cf5e7348",
   "metadata": {},
   "outputs": [],
   "source": [
    "class Memory:\n",
    "    def __init__(self, forget_value, memorize_value, memory):\n",
    "        self.memory = memory\n",
    "        self.forget_value = forget_value\n",
    "        self.memorize_value = memorize_value\n",
    "    \n",
    "    def get_memory(self):\n",
    "        return self.memory\n",
    "    \n",
    "    def get_literals(self):\n",
    "        return list(self.memory.keys())\n",
    "    \n",
    "    def get_condition(self):\n",
    "        condition = []\n",
    "        for literal in self.memory:\n",
    "            if self.memory[literal] >= 6:\n",
    "                condition.append(literal)\n",
    "        return condition\n",
    "        \n",
    "    def memorize(self, literal):\n",
    "        if random() <= self.memorize_value and self.memory[literal] < 10:\n",
    "            self.memory[literal] += 1\n",
    "            \n",
    "    def forget(self, literal):\n",
    "        if random() <= self.forget_value and self.memory[literal] > 1:\n",
    "            self.memory[literal] -= 1\n",
    "            \n",
    "    def memorize_always(self, literal):\n",
    "        if  self.memory[literal] < 10:\n",
    "            self.memory[literal] += 1"
   ]
  },
  {
   "cell_type": "markdown",
   "id": "3f01d8e6",
   "metadata": {},
   "source": [
    "To create the memory for the _Car_ if-then rule, you first set `forget_value`, which decides how quickly the memory forgets. You also set `memorize_value`, determining memorization speed. Finally, you add the literals and their starting memory positions."
   ]
  },
  {
   "cell_type": "code",
   "execution_count": null,
   "id": "ffd069e5",
   "metadata": {},
   "outputs": [],
   "source": [
    "car_rule = Memory(0.9, 0.1, {'Four Wheels':10, 'NOT Four Wheels':2, 'Transports People':9, 'NOT Transports People':3, 'Wings':1, 'NOT Wings':5, 'Yellow':1, 'NOT Yellow':4, 'Blue':6, 'NOT Blue':4})"
   ]
  },
  {
   "cell_type": "markdown",
   "id": "ec822209",
   "metadata": {},
   "source": [
    "The `get_condition()` method extracts the literals in memory position 6 to 10. You can try `get_condition()` on the above example memory."
   ]
  },
  {
   "cell_type": "code",
   "execution_count": null,
   "id": "2c81c78d",
   "metadata": {
    "scrolled": true
   },
   "outputs": [],
   "source": [
    "car_rule.get_condition()"
   ]
  },
  {
   "cell_type": "markdown",
   "id": "521619c8",
   "metadata": {},
   "source": [
    "The condition is _Four Wheels_ __and__ _Transports People_ __and__ _Blue_. You then get the _Car_ rule:"
   ]
  },
  {
   "cell_type": "code",
   "execution_count": null,
   "id": "de11237d",
   "metadata": {},
   "outputs": [],
   "source": [
    "print(\"IF \" + \" AND \".join(car_rule.get_condition()) + \" THEN Car\")"
   ]
  },
  {
   "cell_type": "markdown",
   "id": "b2c8c189",
   "metadata": {},
   "source": [
    "### Memorization and Forgetting\n",
    "\n",
    "You memorize a literal by incrementing its position in memory unless already _Maximally Memorized_ in position 10. The memorization thus pushes the literals deeper into the rule's memory. The `memorize()` method implements memorization."
   ]
  },
  {
   "cell_type": "markdown",
   "id": "07d763f9",
   "metadata": {},
   "source": [
    "You forget a literal by decrementing its position in memory unless already Maximally Forgotten in position 1. The `forget()` method implements forgetting."
   ]
  },
  {
   "cell_type": "markdown",
   "id": "c4c69ba6",
   "metadata": {},
   "source": [
    "Both `memorize()` and `forget()` are randomized, hence we need the `random` method from the `random` module:"
   ]
  },
  {
   "cell_type": "code",
   "execution_count": null,
   "id": "9ef8d66b",
   "metadata": {},
   "outputs": [],
   "source": [
    "from random import random"
   ]
  },
  {
   "cell_type": "markdown",
   "id": "1172ad09",
   "metadata": {},
   "source": [
    "Try out forget two times on literal _Blue_ and observe how the memory updates:"
   ]
  },
  {
   "cell_type": "code",
   "execution_count": null,
   "id": "c944a28b",
   "metadata": {},
   "outputs": [],
   "source": [
    "car_rule.forget('Blue')\n",
    "car_rule.forget('Blue')\n",
    "print(car_rule.memory)"
   ]
  },
  {
   "cell_type": "markdown",
   "id": "a07d6da0",
   "metadata": {},
   "source": [
    "_Blue_ is now either in position 4, 5, or 6 depending on how many times `random()` was equal to or below 0.9."
   ]
  },
  {
   "cell_type": "markdown",
   "id": "0851882c",
   "metadata": {},
   "source": [
    "### Initialization\n",
    "\n",
    "When learning begins the rule starts up with all the literals in memory position 5. That is, the literals are about to be _Memorized_ but currently _Forgotten_."
   ]
  },
  {
   "cell_type": "code",
   "execution_count": null,
   "id": "f06b5210",
   "metadata": {},
   "outputs": [],
   "source": [
    "car_rule = Memory(0.9, 0.1, {'Four Wheels':5, 'NOT Four Wheels':5, 'Transports People':5, 'NOT Transports People':5, 'Wings':5, 'NOT Wings':5, 'Yellow':5, 'NOT Yellow':5, 'Blue':5, 'NOT Blue':5})"
   ]
  },
  {
   "cell_type": "markdown",
   "id": "93c20e85",
   "metadata": {},
   "source": [
    "### Type I Feedback\n",
    "\n",
    "The `type_i_feedback()` method produces frequent patterns with two learning steps:\n",
    "\n",
    "* Check if the condition part of the rule is _True_ by assessing the object's literals. If the condition part is _True_, then memorize all the literals that are _True_ for the object.\n",
    "\n",
    "* Forget all remaining literals."
   ]
  },
  {
   "cell_type": "code",
   "execution_count": null,
   "id": "5d2d430e",
   "metadata": {},
   "outputs": [],
   "source": [
    "def type_i_feedback(observation, memory):\n",
    "    remaining_literals = memory.get_literals()\n",
    "    if evaluate_condition(observation, memory.get_condition()) == True:\n",
    "        for feature in observation:\n",
    "            if observation[feature] == True:\n",
    "                memory.memorize(feature)\n",
    "                remaining_literals.remove(feature)\n",
    "            elif observation[feature] == False:\n",
    "                memory.memorize('NOT ' + feature)\n",
    "                remaining_literals.remove('NOT ' + feature)\n",
    "    for literal in remaining_literals:\n",
    "        memory.forget(literal)"
   ]
  },
  {
   "cell_type": "markdown",
   "id": "c198263d",
   "metadata": {},
   "source": [
    "### Example Run\n",
    "\n",
    "The following code randomly selects a car and then updates the memory. This procedure is repeated 100 times."
   ]
  },
  {
   "cell_type": "code",
   "execution_count": null,
   "id": "b4d1bdcc",
   "metadata": {
    "scrolled": false
   },
   "outputs": [],
   "source": [
    "from random import choice\n",
    "\n",
    "for i in range(100):\n",
    "    observation_id = choice([0,1,2])\n",
    "    type_i_feedback(cars[observation_id], car_rule)"
   ]
  },
  {
   "cell_type": "markdown",
   "id": "616ffef1",
   "metadata": {},
   "source": [
    "The memory now looks like this:"
   ]
  },
  {
   "cell_type": "code",
   "execution_count": 170,
   "id": "4c1fef82",
   "metadata": {},
   "outputs": [
    {
     "name": "stdout",
     "output_type": "stream",
     "text": [
      "{'Four Wheels': 7, 'NOT Four Wheels': 1, 'Transports People': 10, 'NOT Transports People': 1, 'Wings': 1, 'NOT Wings': 10, 'Yellow': 1, 'NOT Yellow': 1, 'Blue': 1, 'NOT Blue': 1}\n"
     ]
    }
   ],
   "source": [
    "print(car_rule.get_memory())"
   ]
  },
  {
   "cell_type": "markdown",
   "id": "9e0f0b4c",
   "metadata": {},
   "source": [
    "Observe that some of the literals are now either deeply memorized or forgotten. You can print out the resulting rule:"
   ]
  },
  {
   "cell_type": "code",
   "execution_count": 171,
   "id": "f237c005",
   "metadata": {
    "scrolled": false
   },
   "outputs": [
    {
     "name": "stdout",
     "output_type": "stream",
     "text": [
      "IF Four Wheels AND Transports People AND NOT Wings THEN Car\n"
     ]
    }
   ],
   "source": [
    "print(\"IF \" + \" AND \".join(car_rule.get_condition()) + \" THEN Car\")"
   ]
  },
  {
   "cell_type": "markdown",
   "id": "d1359001",
   "metadata": {},
   "source": [
    "Congratulations, you have now learnt a frequent _Car_ pattern."
   ]
  },
  {
   "cell_type": "markdown",
   "id": "2627e21c",
   "metadata": {},
   "source": [
    "## Increasing Discrimination Power with Type II Feedback\n",
    "\n",
    "You can use a dataset with planes to ensure that the _Car_ rule is discriminative:"
   ]
  },
  {
   "cell_type": "code",
   "execution_count": 172,
   "id": "6f06fb21",
   "metadata": {},
   "outputs": [],
   "source": [
    "planes = [\n",
    "    {'Four Wheels':True, 'Transports People':True, 'Wings':True, 'Yellow':False, 'Blue':True},\n",
    "    {'Four Wheels':True, 'Transports People':False, 'Wings':True, 'Yellow':True, 'Blue':False},\n",
    "    {'Four Wheels':False, 'Transports People':True, 'Wings':True, 'Yellow':False, 'Blue':True}\n",
    "]"
   ]
  },
  {
   "cell_type": "markdown",
   "id": "88f02cdb",
   "metadata": {},
   "source": [
    "### Type II Feedback\n",
    "\n",
    "The `type_ii_feedback()` method implements the third and final learning step:\n",
    "\n",
    "* Check if the condition part of the rule is _True_ by assessing the object’s literals. If the condition part  is _True_, then  memorize  all _Forgotten_ literals that are _False_ for the object. This time there is no randomization – the increment is always performed."
   ]
  },
  {
   "cell_type": "code",
   "execution_count": 173,
   "id": "35951871",
   "metadata": {},
   "outputs": [],
   "source": [
    "def type_ii_feedback(observation, memory):\n",
    "    if evaluate_condition(observation, memory.get_condition()) == True:\n",
    "        for feature in observation:\n",
    "            if observation[feature] == False:\n",
    "                memory.memorize_always(feature)\n",
    "            elif observation[feature] == True:\n",
    "                memory.memorize_always('NOT ' + feature)"
   ]
  },
  {
   "cell_type": "markdown",
   "id": "ca8cfbe3",
   "metadata": {},
   "source": [
    "### Example Run\n",
    "\n",
    "Let us assume that you start out with the less discriminative rule:"
   ]
  },
  {
   "cell_type": "code",
   "execution_count": 174,
   "id": "3185d644",
   "metadata": {
    "scrolled": true
   },
   "outputs": [
    {
     "name": "stdout",
     "output_type": "stream",
     "text": [
      "IF Four Wheels AND Transports People THEN Car\n"
     ]
    }
   ],
   "source": [
    "car_rule = Memory(0.9, 0.1, {'Four Wheels': 10, 'NOT Four Wheels': 1, 'Transports People': 10, 'NOT Transports People': 1, 'Wings': 1, 'NOT Wings': 1, 'Yellow': 1, 'NOT Yellow': 1, 'Blue': 1, 'NOT Blue': 1})\n",
    "print(\"IF \" + \" AND \".join(car_rule.get_condition()) + \" THEN Car\")"
   ]
  },
  {
   "cell_type": "markdown",
   "id": "bb17f2b7",
   "metadata": {},
   "source": [
    "The rule correctly matches all of the cars in the _Car_ dataset. However, it also erroneously matches the first object in the _Plane_ dataset:"
   ]
  },
  {
   "cell_type": "code",
   "execution_count": 175,
   "id": "82caeaf9",
   "metadata": {},
   "outputs": [
    {
     "name": "stdout",
     "output_type": "stream",
     "text": [
      "True\n"
     ]
    }
   ],
   "source": [
    "print(evaluate_condition(planes[0], car_rule.get_condition()))"
   ]
  },
  {
   "cell_type": "markdown",
   "id": "4023e02c",
   "metadata": {},
   "source": [
    "A few rounds of Type II Feedback fix this error:"
   ]
  },
  {
   "cell_type": "code",
   "execution_count": 176,
   "id": "75b83d2a",
   "metadata": {
    "scrolled": true
   },
   "outputs": [
    {
     "name": "stdout",
     "output_type": "stream",
     "text": [
      "{'Four Wheels': 10, 'NOT Four Wheels': 6, 'Transports People': 10, 'NOT Transports People': 6, 'Wings': 1, 'NOT Wings': 6, 'Yellow': 6, 'NOT Yellow': 1, 'Blue': 1, 'NOT Blue': 6}\n"
     ]
    }
   ],
   "source": [
    "for i in range(100):\n",
    "    observation_id = choice([0,1,2])\n",
    "    type_ii_feedback(planes[observation_id], car_rule)\n",
    "print(car_rule.get_memory())"
   ]
  },
  {
   "cell_type": "markdown",
   "id": "a7483047",
   "metadata": {},
   "source": [
    "Observe how the feedback has pushed several _False_ literals to memory position 6. The updated rule becomes:"
   ]
  },
  {
   "cell_type": "code",
   "execution_count": 177,
   "id": "04adfae4",
   "metadata": {},
   "outputs": [
    {
     "name": "stdout",
     "output_type": "stream",
     "text": [
      "IF Four Wheels AND NOT Four Wheels AND Transports People AND NOT Transports People AND NOT Wings AND Yellow AND NOT Blue THEN Car\n"
     ]
    }
   ],
   "source": [
    "print(\"IF \" + \" AND \".join(car_rule.get_condition()) + \" THEN Car\")"
   ]
  },
  {
   "cell_type": "markdown",
   "id": "cc51a27d",
   "metadata": {},
   "source": [
    "The rule no longer recognizes the offending plane:"
   ]
  },
  {
   "cell_type": "code",
   "execution_count": 178,
   "id": "6070b69b",
   "metadata": {},
   "outputs": [
    {
     "name": "stdout",
     "output_type": "stream",
     "text": [
      "False\n"
     ]
    }
   ],
   "source": [
    "print(evaluate_condition(planes[0], car_rule.get_condition()))"
   ]
  },
  {
   "cell_type": "markdown",
   "id": "c5b4fb37",
   "metadata": {},
   "source": [
    "Unfortunately, the new rule does not match _Car_ frequently. To make the rule both discriminative and frequent you mix Type I and Type II Feedback:"
   ]
  },
  {
   "cell_type": "code",
   "execution_count": null,
   "id": "73b051d3",
   "metadata": {},
   "outputs": [],
   "source": [
    "for i in range(100):\n",
    "    observation_id = choice([0,1,2])\n",
    "    car = choice([0,1])\n",
    "    if car == 1:\n",
    "        type_i_feedback(cars[observation_id], car_rule)\n",
    "    else:\n",
    "        type_ii_feedback(planes[observation_id], car_rule)"
   ]
  },
  {
   "cell_type": "markdown",
   "id": "b7be25a8",
   "metadata": {},
   "source": [
    "The final rule you get is both frequent for _Car_ and distinguishes between _Car_ and _Plane_. "
   ]
  },
  {
   "cell_type": "code",
   "execution_count": null,
   "id": "3c3e84fe",
   "metadata": {},
   "outputs": [],
   "source": [
    "print(\"IF \" + \" AND \".join(car_rule.get_condition()) + \" THEN Car\")"
   ]
  },
  {
   "cell_type": "markdown",
   "id": "e2140fbf",
   "metadata": {},
   "source": [
    "The rule is also deeply memorized with all the important literals in or close to memory position 10."
   ]
  },
  {
   "cell_type": "code",
   "execution_count": null,
   "id": "a117b71e",
   "metadata": {
    "scrolled": false
   },
   "outputs": [],
   "source": [
    "print(car_rule.get_memory())"
   ]
  },
  {
   "cell_type": "markdown",
   "id": "11bff0f9",
   "metadata": {},
   "source": [
    "## Putting the Pieces Together – How Several Rules Coordinate\n",
    "\n",
    "The Tsetlin machine classifies input by voting, implemented by `classify()`. To classify, you simply count how many rules vote for each class. The Tsetlin machine then outputs the class with the most votes.`"
   ]
  },
  {
   "cell_type": "code",
   "execution_count": null,
   "id": "8a5d3536",
   "metadata": {},
   "outputs": [],
   "source": [
    "def classify(observation, car_rules, plane_rules):\n",
    "    vote_sum = 0\n",
    "    for car_rule in car_rules:\n",
    "        if evaluate_condition(observation, car_rule.get_condition()) == True:\n",
    "            vote_sum += 1\n",
    "    for plane_rule in plane_rules:\n",
    "        if evaluate_condition(observation, plane_rule.get_condition()) == True:\n",
    "            vote_sum -= 1\n",
    "    if vote_sum >= 0:\n",
    "        return \"Car\"\n",
    "    else:\n",
    "        return \"Plane\""
   ]
  },
  {
   "cell_type": "markdown",
   "id": "3aab4f92",
   "metadata": {},
   "source": [
    "To run a complete example, you need a rule for class _Plane_, in addition to the one for _Car_:"
   ]
  },
  {
   "cell_type": "code",
   "execution_count": null,
   "id": "43ea395f",
   "metadata": {
    "scrolled": true
   },
   "outputs": [],
   "source": [
    "plane_rule = Memory(0.9, 0.1, {'Four Wheels': 1, 'NOT Four Wheels': 1, 'Transports People': 1, 'NOT Transports People': 1, 'Wings': 10, 'NOT Wings': 1, 'Yellow': 1, 'NOT Yellow': 1, 'Blue': 1, 'NOT Blue': 1})\n",
    "print(\"IF \" + \" AND \".join(plane_rule.get_condition()) + \" THEN Plane\")"
   ]
  },
  {
   "cell_type": "markdown",
   "id": "ab595c68",
   "metadata": {},
   "source": [
    "Try now to classify the second _Plane_ in the dataset:"
   ]
  },
  {
   "cell_type": "code",
   "execution_count": null,
   "id": "7b52f887",
   "metadata": {},
   "outputs": [],
   "source": [
    "classify(planes[1], [car_rule], [plane_rule])"
   ]
  },
  {
   "cell_type": "markdown",
   "id": "108fff7b",
   "metadata": {},
   "source": [
    "Try also to classify the third car:"
   ]
  },
  {
   "cell_type": "code",
   "execution_count": null,
   "id": "5539e118",
   "metadata": {},
   "outputs": [],
   "source": [
    "classify(cars[2], [car_rule], [plane_rule])"
   ]
  },
  {
   "cell_type": "markdown",
   "id": "72ff07fb",
   "metadata": {},
   "source": [
    "Notice how the Tsetlin machine assigns both of the vehicles the correct class."
   ]
  }
 ],
 "metadata": {
  "kernelspec": {
   "display_name": ".IKT457_venv",
   "language": "python",
   "name": "python3"
  },
  "language_info": {
   "codemirror_mode": {
    "name": "ipython",
    "version": 3
   },
   "file_extension": ".py",
   "mimetype": "text/x-python",
   "name": "python",
   "nbconvert_exporter": "python",
   "pygments_lexer": "ipython3",
   "version": "3.13.0"
  }
 },
 "nbformat": 4,
 "nbformat_minor": 5
}
